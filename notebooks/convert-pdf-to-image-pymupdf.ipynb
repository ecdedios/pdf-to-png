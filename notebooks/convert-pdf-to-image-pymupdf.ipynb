{
 "cells": [
  {
   "cell_type": "code",
   "execution_count": 1,
   "id": "a185fae7",
   "metadata": {},
   "outputs": [],
   "source": [
    "import glob, sys, fitz"
   ]
  },
  {
   "cell_type": "code",
   "execution_count": 2,
   "id": "ef324aa9",
   "metadata": {},
   "outputs": [],
   "source": [
    "# To get better resolution\n",
    "zoom_x = 2.0  # horizontal zoom\n",
    "zoom_y = 2.0  # vertical zoom\n",
    "mat = fitz.Matrix(zoom_x, zoom_y)  # zoom factor 2 in each dimension"
   ]
  },
  {
   "cell_type": "code",
   "execution_count": 3,
   "id": "99d09a07",
   "metadata": {},
   "outputs": [],
   "source": [
    "path = '../data/in/'\n",
    "all_files = glob.glob(path + \"*.pdf\")\n",
    "\n",
    "for filename in all_files:\n",
    "    doc = fitz.open(filename)  # open document\n",
    "    for page in doc:  # iterate through the pages\n",
    "        pix = page.get_pixmap(matrix=mat)  # render page to an image\n",
    "        pix.save(\"../data/out/page-%i.png\" % page.number)  # store image as a PNG"
   ]
  }
 ],
 "metadata": {
  "kernelspec": {
   "display_name": "Python 3 (ipykernel)",
   "language": "python",
   "name": "python3"
  },
  "language_info": {
   "codemirror_mode": {
    "name": "ipython",
    "version": 3
   },
   "file_extension": ".py",
   "mimetype": "text/x-python",
   "name": "python",
   "nbconvert_exporter": "python",
   "pygments_lexer": "ipython3",
   "version": "3.8.7"
  }
 },
 "nbformat": 4,
 "nbformat_minor": 5
}
